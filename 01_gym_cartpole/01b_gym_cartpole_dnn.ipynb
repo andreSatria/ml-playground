{
  "nbformat": 4,
  "nbformat_minor": 0,
  "metadata": {
    "colab": {
      "name": "01b_gym_cartpole_dnn.ipynb",
      "version": "0.3.2",
      "provenance": [],
      "collapsed_sections": [],
      "include_colab_link": true
    },
    "kernelspec": {
      "name": "python3",
      "display_name": "Python 3"
    },
    "accelerator": "GPU"
  },
  "cells": [
    {
      "cell_type": "markdown",
      "metadata": {
        "id": "view-in-github",
        "colab_type": "text"
      },
      "source": [
        "<a href=\"https://colab.research.google.com/github/daystram/ml-playground/blob/master/01_gym_cartpole/01b_gym_cartpole_dnn.ipynb\" target=\"_parent\"><img src=\"https://colab.research.google.com/assets/colab-badge.svg\" alt=\"Open In Colab\"/></a>"
      ]
    },
    {
      "cell_type": "markdown",
      "metadata": {
        "id": "xp64GjfuPhH6",
        "colab_type": "text"
      },
      "source": [
        "# 01b Gym CartPole using DNN"
      ]
    },
    {
      "cell_type": "code",
      "metadata": {
        "id": "rzsgj4COvA4Z",
        "colab_type": "code",
        "outputId": "c98f40c7-4848-4742-c673-49255fd0ba08",
        "colab": {
          "base_uri": "https://localhost:8080/",
          "height": 136
        }
      },
      "source": [
        "!rm -r ml-playground > /dev/null 2>&1\n",
        "!git clone https://github.com/daystram/ml-playground.git\n",
        "!sh ml-playground/helper/setup.sh > /dev/null 2>&1"
      ],
      "execution_count": 0,
      "outputs": [
        {
          "output_type": "stream",
          "text": [
            "Cloning into 'ml-playground'...\n",
            "remote: Enumerating objects: 116, done.\u001b[K\n",
            "remote: Counting objects:   0% (1/116)   \u001b[K\rremote: Counting objects:   1% (2/116)   \u001b[K\rremote: Counting objects:   2% (3/116)   \u001b[K\rremote: Counting objects:   3% (4/116)   \u001b[K\rremote: Counting objects:   4% (5/116)   \u001b[K\rremote: Counting objects:   5% (6/116)   \u001b[K\rremote: Counting objects:   6% (7/116)   \u001b[K\rremote: Counting objects:   7% (9/116)   \u001b[K\rremote: Counting objects:   8% (10/116)   \u001b[K\rremote: Counting objects:   9% (11/116)   \u001b[K\rremote: Counting objects:  10% (12/116)   \u001b[K\rremote: Counting objects:  11% (13/116)   \u001b[K\rremote: Counting objects:  12% (14/116)   \u001b[K\rremote: Counting objects:  13% (16/116)   \u001b[K\rremote: Counting objects:  14% (17/116)   \u001b[K\rremote: Counting objects:  15% (18/116)   \u001b[K\rremote: Counting objects:  16% (19/116)   \u001b[K\rremote: Counting objects:  17% (20/116)   \u001b[K\rremote: Counting objects:  18% (21/116)   \u001b[K\rremote: Counting objects:  19% (23/116)   \u001b[K\rremote: Counting objects:  20% (24/116)   \u001b[K\rremote: Counting objects:  21% (25/116)   \u001b[K\rremote: Counting objects:  22% (26/116)   \u001b[K\rremote: Counting objects:  23% (27/116)   \u001b[K\rremote: Counting objects:  24% (28/116)   \u001b[K\rremote: Counting objects:  25% (29/116)   \u001b[K\rremote: Counting objects:  26% (31/116)   \u001b[K\rremote: Counting objects:  27% (32/116)   \u001b[K\rremote: Counting objects:  28% (33/116)   \u001b[K\rremote: Counting objects:  29% (34/116)   \u001b[K\rremote: Counting objects:  30% (35/116)   \u001b[K\rremote: Counting objects:  31% (36/116)   \u001b[K\rremote: Counting objects:  32% (38/116)   \u001b[K\rremote: Counting objects:  33% (39/116)   \u001b[K\rremote: Counting objects:  34% (40/116)   \u001b[K\rremote: Counting objects:  35% (41/116)   \u001b[K\rremote: Counting objects:  36% (42/116)   \u001b[K\rremote: Counting objects:  37% (43/116)   \u001b[K\rremote: Counting objects:  38% (45/116)   \u001b[K\rremote: Counting objects:  39% (46/116)   \u001b[K\rremote: Counting objects:  40% (47/116)   \u001b[K\rremote: Counting objects:  41% (48/116)   \u001b[K\rremote: Counting objects:  42% (49/116)   \u001b[K\rremote: Counting objects:  43% (50/116)   \u001b[K\rremote: Counting objects:  44% (52/116)   \u001b[K\rremote: Counting objects:  45% (53/116)   \u001b[K\rremote: Counting objects:  46% (54/116)   \u001b[K\rremote: Counting objects:  47% (55/116)   \u001b[K\rremote: Counting objects:  48% (56/116)   \u001b[K\rremote: Counting objects:  49% (57/116)   \u001b[K\rremote: Counting objects:  50% (58/116)   \u001b[K\rremote: Counting objects:  51% (60/116)   \u001b[K\rremote: Counting objects:  52% (61/116)   \u001b[K\rremote: Counting objects:  53% (62/116)   \u001b[K\rremote: Counting objects:  54% (63/116)   \u001b[K\rremote: Counting objects:  55% (64/116)   \u001b[K\rremote: Counting objects:  56% (65/116)   \u001b[K\rremote: Counting objects:  57% (67/116)   \u001b[K\rremote: Counting objects:  58% (68/116)   \u001b[K\rremote: Counting objects:  59% (69/116)   \u001b[K\rremote: Counting objects:  60% (70/116)   \u001b[K\rremote: Counting objects:  61% (71/116)   \u001b[K\rremote: Counting objects:  62% (72/116)   \u001b[K\rremote: Counting objects:  63% (74/116)   \u001b[K\rremote: Counting objects:  64% (75/116)   \u001b[K\rremote: Counting objects:  65% (76/116)   \u001b[K\rremote: Counting objects:  66% (77/116)   \u001b[K\rremote: Counting objects:  67% (78/116)   \u001b[K\rremote: Counting objects:  68% (79/116)   \u001b[K\rremote: Counting objects:  69% (81/116)   \u001b[K\rremote: Counting objects:  70% (82/116)   \u001b[K\rremote: Counting objects:  71% (83/116)   \u001b[K\rremote: Counting objects:  72% (84/116)   \u001b[K\rremote: Counting objects:  73% (85/116)   \u001b[K\rremote: Counting objects:  74% (86/116)   \u001b[K\rremote: Counting objects:  75% (87/116)   \u001b[K\rremote: Counting objects:  76% (89/116)   \u001b[K\rremote: Counting objects:  77% (90/116)   \u001b[K\rremote: Counting objects:  78% (91/116)   \u001b[K\rremote: Counting objects:  79% (92/116)   \u001b[K\rremote: Counting objects:  80% (93/116)   \u001b[K\rremote: Counting objects:  81% (94/116)   \u001b[K\rremote: Counting objects:  82% (96/116)   \u001b[K\rremote: Counting objects:  83% (97/116)   \u001b[K\rremote: Counting objects:  84% (98/116)   \u001b[K\rremote: Counting objects:  85% (99/116)   \u001b[K\rremote: Counting objects:  86% (100/116)   \u001b[K\rremote: Counting objects:  87% (101/116)   \u001b[K\rremote: Counting objects:  88% (103/116)   \u001b[K\rremote: Counting objects:  89% (104/116)   \u001b[K\rremote: Counting objects:  90% (105/116)   \u001b[K\rremote: Counting objects:  91% (106/116)   \u001b[K\rremote: Counting objects:  92% (107/116)   \u001b[K\rremote: Counting objects:  93% (108/116)   \u001b[K\rremote: Counting objects:  94% (110/116)   \u001b[K\rremote: Counting objects:  95% (111/116)   \u001b[K\rremote: Counting objects:  96% (112/116)   \u001b[K\rremote: Counting objects:  97% (113/116)   \u001b[K\rremote: Counting objects:  98% (114/116)   \u001b[K\rremote: Counting objects:  99% (115/116)   \u001b[K\rremote: Counting objects: 100% (116/116)   \u001b[K\rremote: Counting objects: 100% (116/116), done.\u001b[K\n",
            "remote: Compressing objects:   1% (1/83)   \u001b[K\rremote: Compressing objects:   2% (2/83)   \u001b[K\rremote: Compressing objects:   3% (3/83)   \u001b[K\rremote: Compressing objects:   4% (4/83)   \u001b[K\rremote: Compressing objects:   6% (5/83)   \u001b[K\rremote: Compressing objects:   7% (6/83)   \u001b[K\rremote: Compressing objects:   8% (7/83)   \u001b[K\rremote: Compressing objects:   9% (8/83)   \u001b[K\rremote: Compressing objects:  10% (9/83)   \u001b[K\rremote: Compressing objects:  12% (10/83)   \u001b[K\rremote: Compressing objects:  13% (11/83)   \u001b[K\rremote: Compressing objects:  14% (12/83)   \u001b[K\rremote: Compressing objects:  15% (13/83)   \u001b[K\rremote: Compressing objects:  16% (14/83)   \u001b[K\rremote: Compressing objects:  18% (15/83)   \u001b[K\rremote: Compressing objects:  19% (16/83)   \u001b[K\rremote: Compressing objects:  20% (17/83)   \u001b[K\rremote: Compressing objects:  21% (18/83)   \u001b[K\rremote: Compressing objects:  22% (19/83)   \u001b[K\rremote: Compressing objects:  24% (20/83)   \u001b[K\rremote: Compressing objects:  25% (21/83)   \u001b[K\rremote: Compressing objects:  26% (22/83)   \u001b[K\rremote: Compressing objects:  27% (23/83)   \u001b[K\rremote: Compressing objects:  28% (24/83)   \u001b[K\rremote: Compressing objects:  30% (25/83)   \u001b[K\rremote: Compressing objects:  31% (26/83)   \u001b[K\rremote: Compressing objects:  32% (27/83)   \u001b[K\rremote: Compressing objects:  33% (28/83)   \u001b[K\rremote: Compressing objects:  34% (29/83)   \u001b[K\rremote: Compressing objects:  36% (30/83)   \u001b[K\rremote: Compressing objects:  37% (31/83)   \u001b[K\rremote: Compressing objects:  38% (32/83)   \u001b[K\rremote: Compressing objects:  39% (33/83)   \u001b[K\rremote: Compressing objects:  40% (34/83)   \u001b[K\rremote: Compressing objects:  42% (35/83)   \u001b[K\rremote: Compressing objects:  43% (36/83)   \u001b[K\rremote: Compressing objects:  44% (37/83)   \u001b[K\rremote: Compressing objects:  45% (38/83)   \u001b[K\rremote: Compressing objects:  46% (39/83)   \u001b[K\rremote: Compressing objects:  48% (40/83)   \u001b[K\rremote: Compressing objects:  49% (41/83)   \u001b[K\rremote: Compressing objects:  50% (42/83)   \u001b[K\rremote: Compressing objects:  51% (43/83)   \u001b[K\rremote: Compressing objects:  53% (44/83)   \u001b[K\rremote: Compressing objects:  54% (45/83)   \u001b[K\rremote: Compressing objects:  55% (46/83)   \u001b[K\rremote: Compressing objects:  56% (47/83)   \u001b[K\rremote: Compressing objects:  57% (48/83)   \u001b[K\rremote: Compressing objects:  59% (49/83)   \u001b[K\rremote: Compressing objects:  60% (50/83)   \u001b[K\rremote: Compressing objects:  61% (51/83)   \u001b[K\rremote: Compressing objects:  62% (52/83)   \u001b[K\rremote: Compressing objects:  63% (53/83)   \u001b[K\rremote: Compressing objects:  65% (54/83)   \u001b[K\rremote: Compressing objects:  66% (55/83)   \u001b[K\rremote: Compressing objects:  67% (56/83)   \u001b[K\rremote: Compressing objects:  68% (57/83)   \u001b[K\rremote: Compressing objects:  69% (58/83)   \u001b[K\rremote: Compressing objects:  71% (59/83)   \u001b[K\rremote: Compressing objects:  72% (60/83)   \u001b[K\rremote: Compressing objects:  73% (61/83)   \u001b[K\rremote: Compressing objects:  74% (62/83)   \u001b[K\rremote: Compressing objects:  75% (63/83)   \u001b[K\rremote: Compressing objects:  77% (64/83)   \u001b[K\rremote: Compressing objects:  78% (65/83)   \u001b[K\rremote: Compressing objects:  79% (66/83)   \u001b[K\rremote: Compressing objects:  80% (67/83)   \u001b[K\rremote: Compressing objects:  81% (68/83)   \u001b[K\rremote: Compressing objects:  83% (69/83)   \u001b[K\rremote: Compressing objects:  84% (70/83)   \u001b[K\rremote: Compressing objects:  85% (71/83)   \u001b[K\rremote: Compressing objects:  86% (72/83)   \u001b[K\rremote: Compressing objects:  87% (73/83)   \u001b[K\rremote: Compressing objects:  89% (74/83)   \u001b[K\rremote: Compressing objects:  90% (75/83)   \u001b[K\rremote: Compressing objects:  91% (76/83)   \u001b[K\rremote: Compressing objects:  92% (77/83)   \u001b[K\rremote: Compressing objects:  93% (78/83)   \u001b[K\rremote: Compressing objects:  95% (79/83)   \u001b[K\rremote: Compressing objects:  96% (80/83)   \u001b[K\rremote: Compressing objects:  97% (81/83)   \u001b[K\rremote: Compressing objects:  98% (82/83)   \u001b[K\rremote: Compressing objects: 100% (83/83)   \u001b[K\rremote: Compressing objects: 100% (83/83), done.\u001b[K\n",
            "Receiving objects:   0% (1/116)   \rReceiving objects:   1% (2/116)   \rReceiving objects:   2% (3/116)   \rReceiving objects:   3% (4/116)   \rReceiving objects:   4% (5/116)   \rReceiving objects:   5% (6/116)   \rReceiving objects:   6% (7/116)   \rReceiving objects:   7% (9/116)   \rReceiving objects:   8% (10/116)   \rReceiving objects:   9% (11/116)   \rReceiving objects:  10% (12/116)   \rReceiving objects:  11% (13/116)   \rReceiving objects:  12% (14/116)   \rReceiving objects:  13% (16/116)   \rReceiving objects:  14% (17/116)   \rReceiving objects:  15% (18/116)   \rReceiving objects:  16% (19/116)   \rReceiving objects:  17% (20/116)   \rReceiving objects:  18% (21/116)   \rReceiving objects:  19% (23/116)   \rReceiving objects:  20% (24/116)   \rReceiving objects:  21% (25/116)   \rReceiving objects:  22% (26/116)   \rReceiving objects:  23% (27/116)   \rReceiving objects:  24% (28/116)   \rReceiving objects:  25% (29/116)   \rReceiving objects:  26% (31/116)   \rReceiving objects:  27% (32/116)   \rReceiving objects:  28% (33/116)   \rReceiving objects:  29% (34/116)   \rReceiving objects:  30% (35/116)   \rReceiving objects:  31% (36/116)   \rReceiving objects:  32% (38/116)   \rReceiving objects:  33% (39/116)   \rReceiving objects:  34% (40/116)   \rReceiving objects:  35% (41/116)   \rReceiving objects:  36% (42/116)   \rReceiving objects:  37% (43/116)   \rremote: Total 116 (delta 66), reused 64 (delta 27), pack-reused 0\u001b[K\n",
            "Receiving objects:  38% (45/116)   \rReceiving objects:  39% (46/116)   \rReceiving objects:  40% (47/116)   \rReceiving objects:  41% (48/116)   \rReceiving objects:  42% (49/116)   \rReceiving objects:  43% (50/116)   \rReceiving objects:  44% (52/116)   \rReceiving objects:  45% (53/116)   \rReceiving objects:  46% (54/116)   \rReceiving objects:  47% (55/116)   \rReceiving objects:  48% (56/116)   \rReceiving objects:  49% (57/116)   \rReceiving objects:  50% (58/116)   \rReceiving objects:  51% (60/116)   \rReceiving objects:  52% (61/116)   \rReceiving objects:  53% (62/116)   \rReceiving objects:  54% (63/116)   \rReceiving objects:  55% (64/116)   \rReceiving objects:  56% (65/116)   \rReceiving objects:  57% (67/116)   \rReceiving objects:  58% (68/116)   \rReceiving objects:  59% (69/116)   \rReceiving objects:  60% (70/116)   \rReceiving objects:  61% (71/116)   \rReceiving objects:  62% (72/116)   \rReceiving objects:  63% (74/116)   \rReceiving objects:  64% (75/116)   \rReceiving objects:  65% (76/116)   \rReceiving objects:  66% (77/116)   \rReceiving objects:  67% (78/116)   \rReceiving objects:  68% (79/116)   \rReceiving objects:  69% (81/116)   \rReceiving objects:  70% (82/116)   \rReceiving objects:  71% (83/116)   \rReceiving objects:  72% (84/116)   \rReceiving objects:  73% (85/116)   \rReceiving objects:  74% (86/116)   \rReceiving objects:  75% (87/116)   \rReceiving objects:  76% (89/116)   \rReceiving objects:  77% (90/116)   \rReceiving objects:  78% (91/116)   \rReceiving objects:  79% (92/116)   \rReceiving objects:  80% (93/116)   \rReceiving objects:  81% (94/116)   \rReceiving objects:  82% (96/116)   \rReceiving objects:  83% (97/116)   \rReceiving objects:  84% (98/116)   \rReceiving objects:  85% (99/116)   \rReceiving objects:  86% (100/116)   \rReceiving objects:  87% (101/116)   \rReceiving objects:  88% (103/116)   \rReceiving objects:  89% (104/116)   \rReceiving objects:  90% (105/116)   \rReceiving objects:  91% (106/116)   \rReceiving objects:  92% (107/116)   \rReceiving objects:  93% (108/116)   \rReceiving objects:  94% (110/116)   \rReceiving objects:  95% (111/116)   \rReceiving objects:  96% (112/116)   \rReceiving objects:  97% (113/116)   \rReceiving objects:  98% (114/116)   \rReceiving objects:  99% (115/116)   \rReceiving objects: 100% (116/116)   \rReceiving objects: 100% (116/116), 44.03 KiB | 2.32 MiB/s, done.\n",
            "Resolving deltas:   0% (0/66)   \rResolving deltas:   1% (1/66)   \rResolving deltas:   3% (2/66)   \rResolving deltas:  10% (7/66)   \rResolving deltas:  18% (12/66)   \rResolving deltas:  34% (23/66)   \rResolving deltas:  39% (26/66)   \rResolving deltas:  53% (35/66)   \rResolving deltas:  57% (38/66)   \rResolving deltas:  60% (40/66)   \rResolving deltas:  63% (42/66)   \rResolving deltas:  72% (48/66)   \rResolving deltas:  81% (54/66)   \rResolving deltas: 100% (66/66)   \rResolving deltas: 100% (66/66), done.\n"
          ],
          "name": "stdout"
        }
      ]
    },
    {
      "cell_type": "code",
      "metadata": {
        "id": "LkWu0CeC_m12",
        "colab_type": "code",
        "colab": {}
      },
      "source": [
        "import sys\n",
        "sys.path.append('/content/ml-playground')"
      ],
      "execution_count": 0,
      "outputs": []
    },
    {
      "cell_type": "code",
      "metadata": {
        "id": "Gh71jLbCwXsI",
        "colab_type": "code",
        "outputId": "d72bceb6-a996-480c-defd-5c965ddabae0",
        "colab": {
          "base_uri": "https://localhost:8080/",
          "height": 51
        }
      },
      "source": [
        "import gym\n",
        "\n",
        "env = gym.make(\"CartPole-v1\")\n",
        "print(env.observation_space)\n",
        "print(env.action_space)"
      ],
      "execution_count": 0,
      "outputs": [
        {
          "output_type": "stream",
          "text": [
            "Box(4,)\n",
            "Discrete(2)\n"
          ],
          "name": "stdout"
        }
      ]
    },
    {
      "cell_type": "code",
      "metadata": {
        "id": "yIq0QJe0wn7K",
        "colab_type": "code",
        "outputId": "b6d815ec-e319-4ef3-f2a3-96f3d9ed1219",
        "colab": {
          "base_uri": "https://localhost:8080/",
          "height": 51
        }
      },
      "source": [
        "import numpy as np\n",
        "\n",
        "acc_fitness = []\n",
        "training_data = []\n",
        "\n",
        "sample_count = 200000\n",
        "steps = 1000\n",
        "goal_tres = 128\n",
        "\n",
        "for _ in range(sample_count):\n",
        "  fitness = 0\n",
        "  action_seq = []\n",
        "  prev_observation = env.reset()\n",
        "  \n",
        "  for _ in range(steps):\n",
        "    action = np.random.randint(0, 2)\n",
        "    action_seq.append([prev_observation, action])\n",
        "    prev_observation, reward, done, _ = env.step(action)\n",
        "    fitness += reward\n",
        "    if done: break\n",
        "    \n",
        "  if fitness >= goal_tres:\n",
        "    acc_fitness.append(fitness)\n",
        "    for seq in action_seq:\n",
        "      if seq[1] == 1:\n",
        "        action = [0, 1]\n",
        "      else:\n",
        "        action = [1, 0]\n",
        "      training_data.append([seq[0], action])\n",
        "env.close()\n",
        "print(\"{} samples\".format(len(training_data)))\n",
        "print(np.array(acc_fitness))"
      ],
      "execution_count": 0,
      "outputs": [
        {
          "output_type": "stream",
          "text": [
            "1549 samples\n",
            "[157. 153. 129. 128. 136. 137. 148. 131. 147. 151. 132.]\n"
          ],
          "name": "stdout"
        }
      ]
    },
    {
      "cell_type": "code",
      "metadata": {
        "id": "TDv33Ksx3BmL",
        "colab_type": "code",
        "outputId": "65cd14c4-6b43-45b2-e4f2-8bb3578077a6",
        "colab": {
          "base_uri": "https://localhost:8080/",
          "height": 156
        }
      },
      "source": [
        "from keras.models import Sequential\n",
        "from keras.layers import Dense, Dropout\n",
        "\n",
        "drop_rate = 0.3\n",
        "model = Sequential()\n",
        "model.add(Dense(128, activation='relu', input_shape=(4,)))\n",
        "model.add(Dropout(drop_rate))\n",
        "model.add(Dense(256, activation='relu'))\n",
        "model.add(Dropout(drop_rate))\n",
        "model.add(Dense(512, activation='relu'))\n",
        "model.add(Dropout(drop_rate))\n",
        "model.add(Dense(256, activation='relu'))\n",
        "model.add(Dropout(drop_rate))\n",
        "model.add(Dense(128, activation='relu'))\n",
        "model.add(Dropout(drop_rate))\n",
        "model.add(Dense(2, activation='relu'))\n",
        "\n",
        "model.compile(loss='categorical_crossentropy',\n",
        "              optimizer='adam',\n",
        "              metrics=['accuracy'])"
      ],
      "execution_count": 0,
      "outputs": [
        {
          "output_type": "stream",
          "text": [
            "Using TensorFlow backend.\n"
          ],
          "name": "stderr"
        },
        {
          "output_type": "stream",
          "text": [
            "WARNING:tensorflow:From /usr/local/lib/python3.6/dist-packages/tensorflow/python/framework/op_def_library.py:263: colocate_with (from tensorflow.python.framework.ops) is deprecated and will be removed in a future version.\n",
            "Instructions for updating:\n",
            "Colocations handled automatically by placer.\n",
            "WARNING:tensorflow:From /usr/local/lib/python3.6/dist-packages/keras/backend/tensorflow_backend.py:3445: calling dropout (from tensorflow.python.ops.nn_ops) with keep_prob is deprecated and will be removed in a future version.\n",
            "Instructions for updating:\n",
            "Please use `rate` instead of `keep_prob`. Rate should be set to `rate = 1 - keep_prob`.\n"
          ],
          "name": "stdout"
        }
      ]
    },
    {
      "cell_type": "code",
      "metadata": {
        "id": "RPQV5SMi4gFS",
        "colab_type": "code",
        "outputId": "4f8de729-d2fb-436e-da26-c17262cf3570",
        "colab": {
          "base_uri": "https://localhost:8080/",
          "height": 785
        }
      },
      "source": [
        "X = np.array([i[0] for i in training_data])\n",
        "y = np.array([i[1] for i in training_data])\n",
        "\n",
        "model.fit(X, y, epochs=20, batch_size=32)"
      ],
      "execution_count": 0,
      "outputs": [
        {
          "output_type": "stream",
          "text": [
            "WARNING:tensorflow:From /usr/local/lib/python3.6/dist-packages/tensorflow/python/ops/math_ops.py:3066: to_int32 (from tensorflow.python.ops.math_ops) is deprecated and will be removed in a future version.\n",
            "Instructions for updating:\n",
            "Use tf.cast instead.\n",
            "Epoch 1/20\n",
            "1549/1549 [==============================] - 2s 1ms/step - loss: 0.8642 - acc: 0.5352\n",
            "Epoch 2/20\n",
            "1549/1549 [==============================] - 0s 145us/step - loss: 0.6716 - acc: 0.5913\n",
            "Epoch 3/20\n",
            "1549/1549 [==============================] - 0s 153us/step - loss: 0.6639 - acc: 0.6068\n",
            "Epoch 4/20\n",
            "1549/1549 [==============================] - 0s 155us/step - loss: 0.6577 - acc: 0.6191\n",
            "Epoch 5/20\n",
            "1549/1549 [==============================] - 0s 154us/step - loss: 0.6555 - acc: 0.6198\n",
            "Epoch 6/20\n",
            "1549/1549 [==============================] - 0s 149us/step - loss: 0.6539 - acc: 0.6139\n",
            "Epoch 7/20\n",
            "1549/1549 [==============================] - 0s 148us/step - loss: 0.6472 - acc: 0.6139\n",
            "Epoch 8/20\n",
            "1549/1549 [==============================] - 0s 154us/step - loss: 0.6537 - acc: 0.6262\n",
            "Epoch 9/20\n",
            "1549/1549 [==============================] - 0s 147us/step - loss: 0.6491 - acc: 0.6288\n",
            "Epoch 10/20\n",
            "1549/1549 [==============================] - 0s 150us/step - loss: 0.6473 - acc: 0.6210\n",
            "Epoch 11/20\n",
            "1549/1549 [==============================] - 0s 151us/step - loss: 0.6510 - acc: 0.6294\n",
            "Epoch 12/20\n",
            "1549/1549 [==============================] - 0s 148us/step - loss: 0.6508 - acc: 0.6307\n",
            "Epoch 13/20\n",
            "1549/1549 [==============================] - 0s 157us/step - loss: 0.6446 - acc: 0.6281\n",
            "Epoch 14/20\n",
            "1549/1549 [==============================] - 0s 150us/step - loss: 0.6399 - acc: 0.6385\n",
            "Epoch 15/20\n",
            "1549/1549 [==============================] - 0s 144us/step - loss: 0.6382 - acc: 0.6423\n",
            "Epoch 16/20\n",
            "1549/1549 [==============================] - 0s 146us/step - loss: 0.6432 - acc: 0.6320\n",
            "Epoch 17/20\n",
            "1549/1549 [==============================] - 0s 155us/step - loss: 0.6410 - acc: 0.6469\n",
            "Epoch 18/20\n",
            "1549/1549 [==============================] - 0s 152us/step - loss: 0.6387 - acc: 0.6456\n",
            "Epoch 19/20\n",
            "1549/1549 [==============================] - 0s 151us/step - loss: 0.6431 - acc: 0.6398\n",
            "Epoch 20/20\n",
            "1549/1549 [==============================] - 0s 151us/step - loss: 0.6480 - acc: 0.6301\n"
          ],
          "name": "stdout"
        },
        {
          "output_type": "execute_result",
          "data": {
            "text/plain": [
              "<keras.callbacks.History at 0x7f5890d56630>"
            ]
          },
          "metadata": {
            "tags": []
          },
          "execution_count": 6
        }
      ]
    },
    {
      "cell_type": "code",
      "metadata": {
        "id": "9Hdkrnjd-m6_",
        "colab_type": "code",
        "outputId": "7c5f1c60-8eae-497f-841d-ec3084dc17ae",
        "colab": {
          "base_uri": "https://localhost:8080/",
          "height": 489
        }
      },
      "source": [
        "from helper import nbdisplay as disp\n",
        "\n",
        "!rm -r video\n",
        "env = disp.wrap_env(gym.make(\"CartPole-v1\"))\n",
        "observation = env.reset()\n",
        "fitness = 0\n",
        "print(np.array([observation]))\n",
        "for _ in range(steps):\n",
        "  action = np.argmax(model.predict(np.array([observation])))\n",
        "  observation, reward, done, _ = env.step(action)\n",
        "  fitness += reward\n",
        "  if done: break\n",
        "\n",
        "env.close()\n",
        "disp.show_video()\n",
        "print(\"Video can be viewed in Google Colab, use the link on top of the page to open\")\n",
        "print(\"------ Agent: Reward {}\".format(fitness))  "
      ],
      "execution_count": 0,
      "outputs": [
        {
          "output_type": "stream",
          "text": [
            "xdpyinfo was not found, X start can not be checked! Please install xdpyinfo!\n"
          ],
          "name": "stderr"
        },
        {
          "output_type": "stream",
          "text": [
            "[[ 0.02437529 -0.01411645  0.02295546 -0.00485035]]\n"
          ],
          "name": "stdout"
        },
        {
          "output_type": "display_data",
          "data": {
            "text/html": [
              "\n",
              "        <video alt=\"test\" autoplay \n",
              "            loop controls style=\"height: 400px;\">\n",
              "            <source src=\"data:video/mp4;base64,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\" type=\"video/mp4\" />\n",
              "        </video>"
            ],
            "text/plain": [
              "<IPython.core.display.HTML object>"
            ]
          },
          "metadata": {
            "tags": []
          }
        },
        {
          "output_type": "stream",
          "text": [
            "Video can be viewed in Google Colab, use the link on top of the page to open\n",
            "------ Agent: Reward 500.0\n"
          ],
          "name": "stdout"
        }
      ]
    },
    {
      "cell_type": "code",
      "metadata": {
        "id": "roNCmVdNFVCD",
        "colab_type": "code",
        "colab": {}
      },
      "source": [
        "import pickle\n",
        "import time\n",
        "\n",
        "filename = '02-agent-{}.model'.format(time.strftime(\"%Y%m%d_%H%M%S\"))\n",
        "file = open(filename, 'wb')\n",
        "pickle.dump(model, file=file)\n",
        "file.close()"
      ],
      "execution_count": 0,
      "outputs": []
    }
  ]
}