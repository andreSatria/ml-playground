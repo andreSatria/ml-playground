{
  "nbformat": 4,
  "nbformat_minor": 0,
  "metadata": {
    "colab": {
      "name": "02_gym_cartpole_keras.ipynb",
      "version": "0.3.2",
      "provenance": [],
      "collapsed_sections": [],
      "include_colab_link": true
    },
    "kernelspec": {
      "name": "python3",
      "display_name": "Python 3"
    },
    "accelerator": "GPU"
  },
  "cells": [
    {
      "cell_type": "markdown",
      "metadata": {
        "id": "view-in-github",
        "colab_type": "text"
      },
      "source": [
        "<a href=\"https://colab.research.google.com/github/daystram/ml-playground/blob/master/02_gym_cartpole_keras/02_gym_cartpole_keras.ipynb\" target=\"_parent\"><img src=\"https://colab.research.google.com/assets/colab-badge.svg\" alt=\"Open In Colab\"/></a>"
      ]
    },
    {
      "cell_type": "code",
      "metadata": {
        "id": "rzsgj4COvA4Z",
        "colab_type": "code",
        "colab": {
          "base_uri": "https://localhost:8080/",
          "height": 136
        },
        "outputId": "4b0dbc9a-24b3-4b44-9346-f69087c43da5"
      },
      "source": [
        "!rm -r ml-playground > /dev/null 2>&1\n",
        "!git clone https://github.com/daystram/ml-playground.git\n",
        "!sh ml-playground/helper/setup.sh > /dev/null 2>&1"
      ],
      "execution_count": 1,
      "outputs": [
        {
          "output_type": "stream",
          "text": [
            "Cloning into 'ml-playground'...\n",
            "remote: Enumerating objects: 112, done.\u001b[K\n",
            "remote: Counting objects:   0% (1/112)   \u001b[K\rremote: Counting objects:   1% (2/112)   \u001b[K\rremote: Counting objects:   2% (3/112)   \u001b[K\rremote: Counting objects:   3% (4/112)   \u001b[K\rremote: Counting objects:   4% (5/112)   \u001b[K\rremote: Counting objects:   5% (6/112)   \u001b[K\rremote: Counting objects:   6% (7/112)   \u001b[K\rremote: Counting objects:   7% (8/112)   \u001b[K\rremote: Counting objects:   8% (9/112)   \u001b[K\rremote: Counting objects:   9% (11/112)   \u001b[K\rremote: Counting objects:  10% (12/112)   \u001b[K\rremote: Counting objects:  11% (13/112)   \u001b[K\rremote: Counting objects:  12% (14/112)   \u001b[K\rremote: Counting objects:  13% (15/112)   \u001b[K\rremote: Counting objects:  14% (16/112)   \u001b[K\rremote: Counting objects:  15% (17/112)   \u001b[K\rremote: Counting objects:  16% (18/112)   \u001b[K\rremote: Counting objects:  17% (20/112)   \u001b[K\rremote: Counting objects:  18% (21/112)   \u001b[K\rremote: Counting objects:  19% (22/112)   \u001b[K\rremote: Counting objects:  20% (23/112)   \u001b[K\rremote: Counting objects:  21% (24/112)   \u001b[K\rremote: Counting objects:  22% (25/112)   \u001b[K\rremote: Counting objects:  23% (26/112)   \u001b[K\rremote: Counting objects:  24% (27/112)   \u001b[K\rremote: Counting objects:  25% (28/112)   \u001b[K\rremote: Counting objects:  26% (30/112)   \u001b[K\rremote: Counting objects:  27% (31/112)   \u001b[K\rremote: Counting objects:  28% (32/112)   \u001b[K\rremote: Counting objects:  29% (33/112)   \u001b[K\rremote: Counting objects:  30% (34/112)   \u001b[K\rremote: Counting objects:  31% (35/112)   \u001b[K\rremote: Counting objects:  32% (36/112)   \u001b[K\rremote: Counting objects:  33% (37/112)   \u001b[K\rremote: Counting objects:  34% (39/112)   \u001b[K\rremote: Counting objects:  35% (40/112)   \u001b[K\rremote: Counting objects:  36% (41/112)   \u001b[K\rremote: Counting objects:  37% (42/112)   \u001b[K\rremote: Counting objects:  38% (43/112)   \u001b[K\rremote: Counting objects:  39% (44/112)   \u001b[K\rremote: Counting objects:  40% (45/112)   \u001b[K\rremote: Counting objects:  41% (46/112)   \u001b[K\rremote: Counting objects:  42% (48/112)   \u001b[K\rremote: Counting objects:  43% (49/112)   \u001b[K\rremote: Counting objects:  44% (50/112)   \u001b[K\rremote: Counting objects:  45% (51/112)   \u001b[K\rremote: Counting objects:  46% (52/112)   \u001b[K\rremote: Counting objects:  47% (53/112)   \u001b[K\rremote: Counting objects:  48% (54/112)   \u001b[K\rremote: Counting objects:  49% (55/112)   \u001b[K\rremote: Counting objects:  50% (56/112)   \u001b[K\rremote: Counting objects:  51% (58/112)   \u001b[K\rremote: Counting objects:  52% (59/112)   \u001b[K\rremote: Counting objects:  53% (60/112)   \u001b[K\rremote: Counting objects:  54% (61/112)   \u001b[K\rremote: Counting objects:  55% (62/112)   \u001b[K\rremote: Counting objects:  56% (63/112)   \u001b[K\rremote: Counting objects:  57% (64/112)   \u001b[K\rremote: Counting objects:  58% (65/112)   \u001b[K\rremote: Counting objects:  59% (67/112)   \u001b[K\rremote: Counting objects:  60% (68/112)   \u001b[K\rremote: Counting objects:  61% (69/112)   \u001b[K\rremote: Counting objects:  62% (70/112)   \u001b[K\rremote: Counting objects:  63% (71/112)   \u001b[K\rremote: Counting objects:  64% (72/112)   \u001b[K\rremote: Counting objects:  65% (73/112)   \u001b[K\rremote: Counting objects:  66% (74/112)   \u001b[K\rremote: Counting objects:  67% (76/112)   \u001b[K\rremote: Counting objects:  68% (77/112)   \u001b[K\rremote: Counting objects:  69% (78/112)   \u001b[K\rremote: Counting objects:  70% (79/112)   \u001b[K\rremote: Counting objects:  71% (80/112)   \u001b[K\rremote: Counting objects:  72% (81/112)   \u001b[K\rremote: Counting objects:  73% (82/112)   \u001b[K\rremote: Counting objects:  74% (83/112)   \u001b[K\rremote: Counting objects:  75% (84/112)   \u001b[K\rremote: Counting objects:  76% (86/112)   \u001b[K\rremote: Counting objects:  77% (87/112)   \u001b[K\rremote: Counting objects:  78% (88/112)   \u001b[K\rremote: Counting objects:  79% (89/112)   \u001b[K\rremote: Counting objects:  80% (90/112)   \u001b[K\rremote: Counting objects:  81% (91/112)   \u001b[K\rremote: Counting objects:  82% (92/112)   \u001b[K\rremote: Counting objects:  83% (93/112)   \u001b[K\rremote: Counting objects:  84% (95/112)   \u001b[K\rremote: Counting objects:  85% (96/112)   \u001b[K\rremote: Counting objects:  86% (97/112)   \u001b[K\rremote: Counting objects:  87% (98/112)   \u001b[K\rremote: Counting objects:  88% (99/112)   \u001b[K\rremote: Counting objects:  89% (100/112)   \u001b[K\rremote: Counting objects:  90% (101/112)   \u001b[K\rremote: Counting objects:  91% (102/112)   \u001b[K\rremote: Counting objects:  92% (104/112)   \u001b[K\rremote: Counting objects:  93% (105/112)   \u001b[K\rremote: Counting objects:  94% (106/112)   \u001b[K\rremote: Counting objects:  95% (107/112)   \u001b[K\rremote: Counting objects:  96% (108/112)   \u001b[K\rremote: Counting objects:  97% (109/112)   \u001b[K\rremote: Counting objects:  98% (110/112)   \u001b[K\rremote: Counting objects:  99% (111/112)   \u001b[K\rremote: Counting objects: 100% (112/112)   \u001b[K\rremote: Counting objects: 100% (112/112), done.\u001b[K\n",
            "remote: Compressing objects:   1% (1/77)   \u001b[K\rremote: Compressing objects:   2% (2/77)   \u001b[K\rremote: Compressing objects:   3% (3/77)   \u001b[K\rremote: Compressing objects:   5% (4/77)   \u001b[K\rremote: Compressing objects:   6% (5/77)   \u001b[K\rremote: Compressing objects:   7% (6/77)   \u001b[K\rremote: Compressing objects:   9% (7/77)   \u001b[K\rremote: Compressing objects:  10% (8/77)   \u001b[K\rremote: Compressing objects:  11% (9/77)   \u001b[K\rremote: Compressing objects:  12% (10/77)   \u001b[K\rremote: Compressing objects:  14% (11/77)   \u001b[K\rremote: Compressing objects:  15% (12/77)   \u001b[K\rremote: Compressing objects:  16% (13/77)   \u001b[K\rremote: Compressing objects:  18% (14/77)   \u001b[K\rremote: Compressing objects:  19% (15/77)   \u001b[K\rremote: Compressing objects:  20% (16/77)   \u001b[K\rremote: Compressing objects:  22% (17/77)   \u001b[K\rremote: Compressing objects:  23% (18/77)   \u001b[K\rremote: Compressing objects:  24% (19/77)   \u001b[K\rremote: Compressing objects:  25% (20/77)   \u001b[K\rremote: Compressing objects:  27% (21/77)   \u001b[K\rremote: Compressing objects:  28% (22/77)   \u001b[K\rremote: Compressing objects:  29% (23/77)   \u001b[K\rremote: Compressing objects:  31% (24/77)   \u001b[K\rremote: Compressing objects:  32% (25/77)   \u001b[K\rremote: Compressing objects:  33% (26/77)   \u001b[K\rremote: Compressing objects:  35% (27/77)   \u001b[K\rremote: Compressing objects:  36% (28/77)   \u001b[K\rremote: Compressing objects:  37% (29/77)   \u001b[K\rremote: Compressing objects:  38% (30/77)   \u001b[K\rremote: Compressing objects:  40% (31/77)   \u001b[K\rremote: Compressing objects:  41% (32/77)   \u001b[K\rremote: Compressing objects:  42% (33/77)   \u001b[K\rremote: Compressing objects:  44% (34/77)   \u001b[K\rremote: Compressing objects:  45% (35/77)   \u001b[K\rremote: Compressing objects:  46% (36/77)   \u001b[K\rremote: Compressing objects:  48% (37/77)   \u001b[K\rremote: Compressing objects:  49% (38/77)   \u001b[K\rremote: Compressing objects:  50% (39/77)   \u001b[K\rremote: Compressing objects:  51% (40/77)   \u001b[K\rremote: Compressing objects:  53% (41/77)   \u001b[K\rremote: Compressing objects:  54% (42/77)   \u001b[K\rremote: Compressing objects:  55% (43/77)   \u001b[K\rremote: Compressing objects:  57% (44/77)   \u001b[K\rremote: Compressing objects:  58% (45/77)   \u001b[K\rremote: Compressing objects:  59% (46/77)   \u001b[K\rremote: Compressing objects:  61% (47/77)   \u001b[K\rremote: Compressing objects:  62% (48/77)   \u001b[K\rremote: Compressing objects:  63% (49/77)   \u001b[K\rremote: Compressing objects:  64% (50/77)   \u001b[K\rremote: Compressing objects:  66% (51/77)   \u001b[K\rremote: Compressing objects:  67% (52/77)   \u001b[K\rremote: Compressing objects:  68% (53/77)   \u001b[K\rremote: Compressing objects:  70% (54/77)   \u001b[K\rremote: Compressing objects:  71% (55/77)   \u001b[K\rremote: Compressing objects:  72% (56/77)   \u001b[K\rremote: Compressing objects:  74% (57/77)   \u001b[K\rremote: Compressing objects:  75% (58/77)   \u001b[K\rremote: Compressing objects:  76% (59/77)   \u001b[K\rremote: Compressing objects:  77% (60/77)   \u001b[K\rremote: Compressing objects:  79% (61/77)   \u001b[K\rremote: Compressing objects:  80% (62/77)   \u001b[K\rremote: Compressing objects:  81% (63/77)   \u001b[K\rremote: Compressing objects:  83% (64/77)   \u001b[K\rremote: Compressing objects:  84% (65/77)   \u001b[K\rremote: Compressing objects:  85% (66/77)   \u001b[K\rremote: Compressing objects:  87% (67/77)   \u001b[K\rremote: Compressing objects:  88% (68/77)   \u001b[K\rremote: Compressing objects:  89% (69/77)   \u001b[K\rremote: Compressing objects:  90% (70/77)   \u001b[K\rremote: Compressing objects:  92% (71/77)   \u001b[K\rremote: Compressing objects:  93% (72/77)   \u001b[K\rremote: Compressing objects:  94% (73/77)   \u001b[K\rremote: Compressing objects:  96% (74/77)   \u001b[K\rremote: Compressing objects:  97% (75/77)   \u001b[K\rremote: Compressing objects:  98% (76/77)   \u001b[K\rremote: Compressing objects: 100% (77/77)   \u001b[K\rremote: Compressing objects: 100% (77/77), done.\u001b[K\n",
            "Receiving objects:   0% (1/112)   \rReceiving objects:   1% (2/112)   \rReceiving objects:   2% (3/112)   \rReceiving objects:   3% (4/112)   \rReceiving objects:   4% (5/112)   \rReceiving objects:   5% (6/112)   \rReceiving objects:   6% (7/112)   \rReceiving objects:   7% (8/112)   \rReceiving objects:   8% (9/112)   \rReceiving objects:   9% (11/112)   \rReceiving objects:  10% (12/112)   \rReceiving objects:  11% (13/112)   \rReceiving objects:  12% (14/112)   \rReceiving objects:  13% (15/112)   \rReceiving objects:  14% (16/112)   \rReceiving objects:  15% (17/112)   \rReceiving objects:  16% (18/112)   \rReceiving objects:  17% (20/112)   \rReceiving objects:  18% (21/112)   \rReceiving objects:  19% (22/112)   \rReceiving objects:  20% (23/112)   \rReceiving objects:  21% (24/112)   \rReceiving objects:  22% (25/112)   \rReceiving objects:  23% (26/112)   \rReceiving objects:  24% (27/112)   \rReceiving objects:  25% (28/112)   \rReceiving objects:  26% (30/112)   \rReceiving objects:  27% (31/112)   \rReceiving objects:  28% (32/112)   \rReceiving objects:  29% (33/112)   \rReceiving objects:  30% (34/112)   \rremote: Total 112 (delta 63), reused 68 (delta 29), pack-reused 0\u001b[K\n",
            "Receiving objects:  31% (35/112)   \rReceiving objects:  32% (36/112)   \rReceiving objects:  33% (37/112)   \rReceiving objects:  34% (39/112)   \rReceiving objects:  35% (40/112)   \rReceiving objects:  36% (41/112)   \rReceiving objects:  37% (42/112)   \rReceiving objects:  38% (43/112)   \rReceiving objects:  39% (44/112)   \rReceiving objects:  40% (45/112)   \rReceiving objects:  41% (46/112)   \rReceiving objects:  42% (48/112)   \rReceiving objects:  43% (49/112)   \rReceiving objects:  44% (50/112)   \rReceiving objects:  45% (51/112)   \rReceiving objects:  46% (52/112)   \rReceiving objects:  47% (53/112)   \rReceiving objects:  48% (54/112)   \rReceiving objects:  49% (55/112)   \rReceiving objects:  50% (56/112)   \rReceiving objects:  51% (58/112)   \rReceiving objects:  52% (59/112)   \rReceiving objects:  53% (60/112)   \rReceiving objects:  54% (61/112)   \rReceiving objects:  55% (62/112)   \rReceiving objects:  56% (63/112)   \rReceiving objects:  57% (64/112)   \rReceiving objects:  58% (65/112)   \rReceiving objects:  59% (67/112)   \rReceiving objects:  60% (68/112)   \rReceiving objects:  61% (69/112)   \rReceiving objects:  62% (70/112)   \rReceiving objects:  63% (71/112)   \rReceiving objects:  64% (72/112)   \rReceiving objects:  65% (73/112)   \rReceiving objects:  66% (74/112)   \rReceiving objects:  67% (76/112)   \rReceiving objects:  68% (77/112)   \rReceiving objects:  69% (78/112)   \rReceiving objects:  70% (79/112)   \rReceiving objects:  71% (80/112)   \rReceiving objects:  72% (81/112)   \rReceiving objects:  73% (82/112)   \rReceiving objects:  74% (83/112)   \rReceiving objects:  75% (84/112)   \rReceiving objects:  76% (86/112)   \rReceiving objects:  77% (87/112)   \rReceiving objects:  78% (88/112)   \rReceiving objects:  79% (89/112)   \rReceiving objects:  80% (90/112)   \rReceiving objects:  81% (91/112)   \rReceiving objects:  82% (92/112)   \rReceiving objects:  83% (93/112)   \rReceiving objects:  84% (95/112)   \rReceiving objects:  85% (96/112)   \rReceiving objects:  86% (97/112)   \rReceiving objects:  87% (98/112)   \rReceiving objects:  88% (99/112)   \rReceiving objects:  89% (100/112)   \rReceiving objects:  90% (101/112)   \rReceiving objects:  91% (102/112)   \rReceiving objects:  92% (104/112)   \rReceiving objects:  93% (105/112)   \rReceiving objects:  94% (106/112)   \rReceiving objects:  95% (107/112)   \rReceiving objects:  96% (108/112)   \rReceiving objects:  97% (109/112)   \rReceiving objects:  98% (110/112)   \rReceiving objects:  99% (111/112)   \rReceiving objects: 100% (112/112)   \rReceiving objects: 100% (112/112), 16.36 KiB | 5.45 MiB/s, done.\n",
            "Resolving deltas:   0% (0/63)   \rResolving deltas:   1% (1/63)   \rResolving deltas:   9% (6/63)   \rResolving deltas:  19% (12/63)   \rResolving deltas:  41% (26/63)   \rResolving deltas:  44% (28/63)   \rResolving deltas:  50% (32/63)   \rResolving deltas:  53% (34/63)   \rResolving deltas:  55% (35/63)   \rResolving deltas:  57% (36/63)   \rResolving deltas:  58% (37/63)   \rResolving deltas:  65% (41/63)   \rResolving deltas:  77% (49/63)   \rResolving deltas:  80% (51/63)   \rResolving deltas: 100% (63/63)   \rResolving deltas: 100% (63/63), done.\n"
          ],
          "name": "stdout"
        }
      ]
    },
    {
      "cell_type": "code",
      "metadata": {
        "id": "LkWu0CeC_m12",
        "colab_type": "code",
        "colab": {}
      },
      "source": [
        "import sys\n",
        "sys.path.append('/content/ml-playground')"
      ],
      "execution_count": 0,
      "outputs": []
    },
    {
      "cell_type": "code",
      "metadata": {
        "id": "Gh71jLbCwXsI",
        "colab_type": "code",
        "colab": {
          "base_uri": "https://localhost:8080/",
          "height": 51
        },
        "outputId": "fb99362a-b9c2-44f9-d552-88dbabc36dec"
      },
      "source": [
        "import gym\n",
        "\n",
        "env = gym.make(\"CartPole-v1\")\n",
        "print(env.observation_space)\n",
        "print(env.action_space)"
      ],
      "execution_count": 3,
      "outputs": [
        {
          "output_type": "stream",
          "text": [
            "Box(4,)\n",
            "Discrete(2)\n"
          ],
          "name": "stdout"
        }
      ]
    },
    {
      "cell_type": "code",
      "metadata": {
        "id": "yIq0QJe0wn7K",
        "colab_type": "code",
        "colab": {
          "base_uri": "https://localhost:8080/",
          "height": 34
        },
        "outputId": "e8c541b2-eed3-403c-a203-2c04a3cc09ff"
      },
      "source": [
        "import numpy as np\n",
        "\n",
        "acc_fitness = []\n",
        "training_data = []\n",
        "\n",
        "sample_count = 200000\n",
        "steps = 1000\n",
        "goal_tres = 120\n",
        "\n",
        "for _ in range(sample_count):\n",
        "  fitness = 0\n",
        "  action_seq = []\n",
        "  prev_observation = env.reset()\n",
        "  \n",
        "  for _ in range(steps):\n",
        "    action = np.random.randint(0, 2)\n",
        "    action_seq.append([prev_observation, action])\n",
        "    prev_observation, reward, done, _ = env.step(action)\n",
        "    fitness += reward\n",
        "    if done: break\n",
        "    \n",
        "  if fitness >= goal_tres:\n",
        "    acc_fitness.append(fitness)\n",
        "    for seq in action_seq:\n",
        "      if seq[1] == 1:\n",
        "        action = [0, 1]\n",
        "      else:\n",
        "        action = [1, 0]\n",
        "      training_data.append([seq[0], action])\n",
        "env.close()\n",
        "print(\"{} samples\".format(len(training_data)))"
      ],
      "execution_count": 4,
      "outputs": [
        {
          "output_type": "stream",
          "text": [
            "2172 samples\n"
          ],
          "name": "stdout"
        }
      ]
    },
    {
      "cell_type": "code",
      "metadata": {
        "id": "TDv33Ksx3BmL",
        "colab_type": "code",
        "colab": {
          "base_uri": "https://localhost:8080/",
          "height": 156
        },
        "outputId": "e03d27e3-8bd2-4235-d11f-1f7b75c31b00"
      },
      "source": [
        "from keras.models import Sequential\n",
        "from keras.layers import Dense, Dropout\n",
        "\n",
        "drop_rate = 0.25\n",
        "model = Sequential()\n",
        "model.add(Dense(128, activation='relu', input_shape=(4,)))\n",
        "model.add(Dropout(drop_rate))\n",
        "model.add(Dense(256, activation='relu'))\n",
        "model.add(Dropout(drop_rate))\n",
        "model.add(Dense(512, activation='relu'))\n",
        "model.add(Dropout(drop_rate))\n",
        "model.add(Dense(256, activation='relu'))\n",
        "model.add(Dropout(drop_rate))\n",
        "model.add(Dense(128, activation='relu'))\n",
        "model.add(Dropout(drop_rate))\n",
        "model.add(Dense(2, activation='relu'))\n",
        "\n",
        "model.compile(loss='categorical_crossentropy',\n",
        "              optimizer='adam',\n",
        "              metrics=['accuracy'])"
      ],
      "execution_count": 5,
      "outputs": [
        {
          "output_type": "stream",
          "text": [
            "Using TensorFlow backend.\n"
          ],
          "name": "stderr"
        },
        {
          "output_type": "stream",
          "text": [
            "WARNING:tensorflow:From /usr/local/lib/python3.6/dist-packages/tensorflow/python/framework/op_def_library.py:263: colocate_with (from tensorflow.python.framework.ops) is deprecated and will be removed in a future version.\n",
            "Instructions for updating:\n",
            "Colocations handled automatically by placer.\n",
            "WARNING:tensorflow:From /usr/local/lib/python3.6/dist-packages/keras/backend/tensorflow_backend.py:3445: calling dropout (from tensorflow.python.ops.nn_ops) with keep_prob is deprecated and will be removed in a future version.\n",
            "Instructions for updating:\n",
            "Please use `rate` instead of `keep_prob`. Rate should be set to `rate = 1 - keep_prob`.\n"
          ],
          "name": "stdout"
        }
      ]
    },
    {
      "cell_type": "code",
      "metadata": {
        "id": "RPQV5SMi4gFS",
        "colab_type": "code",
        "colab": {
          "base_uri": "https://localhost:8080/",
          "height": 785
        },
        "outputId": "1aa139ea-5a03-417e-b083-6099e05a6006"
      },
      "source": [
        "X = np.array([i[0] for i in training_data])\n",
        "y = np.array([i[1] for i in training_data])\n",
        "\n",
        "model.fit(X, y, epochs=20, batch_size=64)"
      ],
      "execution_count": 6,
      "outputs": [
        {
          "output_type": "stream",
          "text": [
            "WARNING:tensorflow:From /usr/local/lib/python3.6/dist-packages/tensorflow/python/ops/math_ops.py:3066: to_int32 (from tensorflow.python.ops.math_ops) is deprecated and will be removed in a future version.\n",
            "Instructions for updating:\n",
            "Use tf.cast instead.\n",
            "Epoch 1/20\n",
            "2172/2172 [==============================] - 2s 718us/step - loss: 1.0437 - acc: 0.5401\n",
            "Epoch 2/20\n",
            "2172/2172 [==============================] - 0s 79us/step - loss: 0.6739 - acc: 0.5852\n",
            "Epoch 3/20\n",
            "2172/2172 [==============================] - 0s 73us/step - loss: 0.6666 - acc: 0.5999\n",
            "Epoch 4/20\n",
            "2172/2172 [==============================] - 0s 79us/step - loss: 0.6681 - acc: 0.5944\n",
            "Epoch 5/20\n",
            "2172/2172 [==============================] - 0s 75us/step - loss: 0.6680 - acc: 0.6004\n",
            "Epoch 6/20\n",
            "2172/2172 [==============================] - 0s 76us/step - loss: 0.6680 - acc: 0.5958\n",
            "Epoch 7/20\n",
            "2172/2172 [==============================] - 0s 77us/step - loss: 0.6607 - acc: 0.6091\n",
            "Epoch 8/20\n",
            "2172/2172 [==============================] - 0s 81us/step - loss: 0.6538 - acc: 0.6179\n",
            "Epoch 9/20\n",
            "2172/2172 [==============================] - 0s 76us/step - loss: 0.6573 - acc: 0.6174\n",
            "Epoch 10/20\n",
            "2172/2172 [==============================] - 0s 76us/step - loss: 0.6592 - acc: 0.6142\n",
            "Epoch 11/20\n",
            "2172/2172 [==============================] - 0s 76us/step - loss: 0.6555 - acc: 0.6192\n",
            "Epoch 12/20\n",
            "2172/2172 [==============================] - 0s 75us/step - loss: 0.6538 - acc: 0.6183\n",
            "Epoch 13/20\n",
            "2172/2172 [==============================] - 0s 75us/step - loss: 0.6552 - acc: 0.6220\n",
            "Epoch 14/20\n",
            "2172/2172 [==============================] - 0s 77us/step - loss: 0.6529 - acc: 0.6229\n",
            "Epoch 15/20\n",
            "2172/2172 [==============================] - 0s 81us/step - loss: 0.6500 - acc: 0.6192\n",
            "Epoch 16/20\n",
            "2172/2172 [==============================] - 0s 74us/step - loss: 0.6543 - acc: 0.6202\n",
            "Epoch 17/20\n",
            "2172/2172 [==============================] - 0s 76us/step - loss: 0.6480 - acc: 0.6303\n",
            "Epoch 18/20\n",
            "2172/2172 [==============================] - 0s 80us/step - loss: 0.6505 - acc: 0.6363\n",
            "Epoch 19/20\n",
            "2172/2172 [==============================] - 0s 76us/step - loss: 0.6459 - acc: 0.6294\n",
            "Epoch 20/20\n",
            "2172/2172 [==============================] - 0s 76us/step - loss: 0.6510 - acc: 0.6238\n"
          ],
          "name": "stdout"
        },
        {
          "output_type": "execute_result",
          "data": {
            "text/plain": [
              "<keras.callbacks.History at 0x7efcdb499ba8>"
            ]
          },
          "metadata": {
            "tags": []
          },
          "execution_count": 6
        }
      ]
    },
    {
      "cell_type": "code",
      "metadata": {
        "id": "9Hdkrnjd-m6_",
        "colab_type": "code",
        "colab": {
          "base_uri": "https://localhost:8080/",
          "height": 472
        },
        "outputId": "38a961bf-ac81-4536-c8bf-aa98a71a241e"
      },
      "source": [
        "from helper import nbdisplay as disp\n",
        "\n",
        "!rm -r video\n",
        "env = disp.wrap_env(gym.make(\"CartPole-v1\"))\n",
        "observation = env.reset()\n",
        "fitness = 0\n",
        "print(np.array([observation]))\n",
        "for _ in range(steps):\n",
        "  action = np.argmax(model.predict(np.array([observation])))\n",
        "  observation, reward, done, _ = env.step(action)\n",
        "  fitness += reward\n",
        "  if done: break\n",
        "\n",
        "env.close()\n",
        "disp.show_video()\n",
        "\n",
        "print(\"------ Agent: Reward {}\".format(fitness))  "
      ],
      "execution_count": 7,
      "outputs": [
        {
          "output_type": "stream",
          "text": [
            "xdpyinfo was not found, X start can not be checked! Please install xdpyinfo!\n"
          ],
          "name": "stderr"
        },
        {
          "output_type": "stream",
          "text": [
            "[[-0.03022734 -0.01468179  0.0070167  -0.00241632]]\n"
          ],
          "name": "stdout"
        },
        {
          "output_type": "display_data",
          "data": {
            "text/html": [
              "\n",
              "        <video alt=\"test\" autoplay \n",
              "            loop controls style=\"height: 400px;\">\n",
              "            <source src=\"data:video/mp4;base64,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\" type=\"video/mp4\" />\n",
              "        </video>"
            ],
            "text/plain": [
              "<IPython.core.display.HTML object>"
            ]
          },
          "metadata": {
            "tags": []
          }
        },
        {
          "output_type": "stream",
          "text": [
            "------ Agent: Reward 500.0\n"
          ],
          "name": "stdout"
        }
      ]
    }
  ]
}