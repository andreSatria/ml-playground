{
  "nbformat": 4,
  "nbformat_minor": 0,
  "metadata": {
    "colab": {
      "name": "02b_gym_mountaincar_qtable.ipynb",
      "version": "0.3.2",
      "provenance": [],
      "collapsed_sections": [],
      "include_colab_link": true
    },
    "kernelspec": {
      "name": "python3",
      "display_name": "Python 3"
    }
  },
  "cells": [
    {
      "cell_type": "markdown",
      "metadata": {
        "id": "view-in-github",
        "colab_type": "text"
      },
      "source": [
        "<a href=\"https://colab.research.google.com/github/daystram/ml-playground/blob/master/02_gym_mountaincar/02b_gym_mountaincar_qtable.ipynb\" target=\"_parent\"><img src=\"https://colab.research.google.com/assets/colab-badge.svg\" alt=\"Open In Colab\"/></a>"
      ]
    },
    {
      "cell_type": "markdown",
      "metadata": {
        "id": "tHqYAPkt7v7V",
        "colab_type": "text"
      },
      "source": [
        "# 02b Gym MountainCar using Q Table\n",
        "\n",
        "*https://github.com/daystram/ml-playground*\n",
        "\n",
        "---\n",
        "\n"
      ]
    },
    {
      "cell_type": "markdown",
      "metadata": {
        "id": "9wsOb3uU77qX",
        "colab_type": "text"
      },
      "source": [
        "## 0. Initialization\n",
        "\n",
        "We will clone the git repo to load the setup script and required modules. The repo should also be added to Python's module-path for easier module imports."
      ]
    },
    {
      "cell_type": "code",
      "metadata": {
        "id": "lv0dmM967jdS",
        "colab_type": "code",
        "colab": {}
      },
      "source": [
        "!rm -r ml-playground > /dev/null 2>&1\n",
        "!git clone https://github.com/daystram/ml-playground.git\n",
        "!sh ml-playground/helper/setup.sh > /dev/null 2>&1"
      ],
      "execution_count": 0,
      "outputs": []
    },
    {
      "cell_type": "code",
      "metadata": {
        "id": "vRwgMUSB8Gm8",
        "colab_type": "code",
        "colab": {}
      },
      "source": [
        "import warnings; warnings.filterwarnings('ignore')\n",
        "import sys; sys.path.append('/content/ml-playground')"
      ],
      "execution_count": 0,
      "outputs": []
    },
    {
      "cell_type": "markdown",
      "metadata": {
        "id": "z7BWxUeJ8Nfl",
        "colab_type": "text"
      },
      "source": [
        "## 1. Training the Model"
      ]
    },
    {
      "cell_type": "markdown",
      "metadata": {
        "id": "-CaH25qL8Zcp",
        "colab_type": "text"
      },
      "source": [
        "### a. Q Table?"
      ]
    },
    {
      "cell_type": "markdown",
      "metadata": {
        "id": "czL54BUi8v8w",
        "colab_type": "text"
      },
      "source": [
        "### b. Loading the Environment"
      ]
    },
    {
      "cell_type": "markdown",
      "metadata": {
        "id": "QEpgK1cu8dcc",
        "colab_type": "text"
      },
      "source": [
        "### c. Creating the Table"
      ]
    },
    {
      "cell_type": "markdown",
      "metadata": {
        "id": "rZRnNljj8hI6",
        "colab_type": "text"
      },
      "source": [
        "### d. Training the Model"
      ]
    },
    {
      "cell_type": "markdown",
      "metadata": {
        "id": "MTv-gMmd8mJL",
        "colab_type": "text"
      },
      "source": [
        "## 2. Evaluation"
      ]
    },
    {
      "cell_type": "markdown",
      "metadata": {
        "id": "wragoJf28oCD",
        "colab_type": "text"
      },
      "source": [
        ""
      ]
    }
  ]
}